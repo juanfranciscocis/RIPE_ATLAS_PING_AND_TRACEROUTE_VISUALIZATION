{
 "cells": [
  {
   "cell_type": "code",
   "execution_count": 64,
   "metadata": {},
   "outputs": [],
   "source": [
    "import requests\n",
    "import json\n",
    "from ip2geotools.databases.noncommercial import DbIpCity"
   ]
  },
  {
   "cell_type": "markdown",
   "metadata": {},
   "source": [
    "# Determine where your application is deployed\n",
    "![](./1/aws.png)\n",
    "- Run a ping or nslookup to determine the IP address of your web-page\n",
    "\n",
    "Al correr el nslookup obtenemos que la ip de donde se encuentra el servicio es la 52.217.233.209 esta es una ip de clase IPV4 y es fácil de reconocer debido a que está compuesta por 32 bits, separada por cuatro octetos y 3 puntos.\n",
    "\n",
    "![](./1/ping.png)\n",
    "\n",
    "- Use the IP to determine the geographical location of the server hosting your web-page\n",
    "\n",
    "Para este ejercicio se ha decidido utilizar una página web de acceso público que me proporciona estos datos de una manera más fácil y visual que hacerlo por línea de comando. https://www.iplocation.net/\n",
    "\n",
    "![](./1/iplocation.png)\n",
    "\n",
    "\n"
   ]
  },
  {
   "cell_type": "markdown",
   "metadata": {},
   "source": [
    "# Measure the latency of your web-page from different countries in the globe.\n",
    "- Plot the latencies using a visualization that would help us see the relationship between distance and latency\n"
   ]
  },
  {
   "cell_type": "markdown",
   "metadata": {},
   "source": [
    "![](./ping_no_cdn/1.png)\n",
    "![](./ping_no_cdn/2.png)\n",
    "![](./ping_no_cdn/3.png)\n",
    "![](./ping_no_cdn/4.png)\n",
    "![](./ping_no_cdn/5.png)\n",
    "![](./ping_no_cdn/6.png)\n",
    "![](./ping_no_cdn/7.png)\n",
    "![](./ping_no_cdn/8.png)\n",
    "![](./ping_no_cdn/9.png)\n",
    "![](./ping_no_cdn/10.png)\n",
    "![](./ping_no_cdn/11.png)\n",
    "![](./ping_no_cdn/12.png)\n",
    "![](./ping_no_cdn/13.png)\n",
    "![](./ping_no_cdn/14.png)\n",
    "![](./ping_no_cdn/15.png)\n",
    "![](./ping_no_cdn/16.png)\n",
    "![](./ping_no_cdn/17.png)\n",
    "![](./ping_no_cdn/18.png)\n",
    "![](./ping_no_cdn/19.png)\n",
    "![](./ping_no_cdn/20.png)"
   ]
  },
  {
   "cell_type": "markdown",
   "metadata": {},
   "source": [
    "Como podemos ver en este caso hay latencias que no hacen sentido debido a que son negativas, -1.\n",
    "\n",
    "-Assume that you now have a video application deployed instead of a simple web-page. What would be the problems if the users are from all over the world? What would you propose to improve the experience of your users?\n",
    "\n",
    "Al momento de desplegar un servicio de streaming de video en un host con el objetivo de que sea accedido por varios usuarios alrededor del planeta uno de los primeros desafíos a enfrentar es la variabilidad de latencias por cada región geográfica. Teniendo diferentes distancias y latencias para cada usuario tomando como punto de referencia US east, Virginia. \n",
    "\n",
    "Sería correcto asumir que bajo este contexto los usuarios que mantengan una mejor latencia y mayor ancho de banda podrían acceder a una transmisión con más calidad de video y sin retrasos en playback en comparación con aquellos usuarios con menores condiciones de latencia y ancho de banda. En las imágenes anteriores se puede observar que existieron transmisiones que no se levantaron exitosamente, entre estas por ejemplo se encuentran: Auckland -Ashburn, Yogyakarta-Ashburn, Tehran-Ashburn que han arrojado valores de -1ms indicando que probablemente dada la gran distancia y las condiciones físicas relacionadas hacen que no sea suficiente para levantar conexión. Por otra parte también se debe tomar en cuenta aquellos usuarios que mantienen conexión pero hay diferencias en la calidad del servicio( video y audio) por ejemplo: Novosibirsk-Ashburn ( 164.162144ms) , Sofía- Asburn (117.760354ms). En este orden de ideas, aquellos usuarios en estas ubicaciones no tendrían acceso a la trasmisión de video. \n",
    "Para resolver estos inconvenientes la implementación de una CDN para hostear la página de video web dispondría al servicio bajo servidores más cercanos disminuyendo la latencia y generando alternativas para la transmisión confiable y sostenible del video. \n",
    "\n"
   ]
  },
  {
   "cell_type": "markdown",
   "metadata": {},
   "source": [
    "# Run a traceroute measurement from the same probes you did in (2).\n",
    "- From the output of the traceroute, approximate the number of hops from the client and your web-page.\n",
    "\n",
    "![](./3/hops.png)\n",
    "\n",
    "Tomando en cuenta el siguiente output, al realizar la solicitud traceroute se obtiene un hop count de aproximadamente 200. \n"
   ]
  },
  {
   "cell_type": "markdown",
   "metadata": {},
   "source": [
    "- Use a visualization to show the relationship between geographical distance and the number of hops."
   ]
  },
  {
   "cell_type": "markdown",
   "metadata": {},
   "source": [
    "![](./trace_no_cdn/1.png)\n",
    "![](./trace_no_cdn/2.png)\n",
    "![](./trace_no_cdn/3.png)\n",
    "![](./trace_no_cdn/4.png)\n",
    "![](./trace_no_cdn/5.png)\n",
    "![](./trace_no_cdn/6.png)\n",
    "![](./trace_no_cdn/7.png)\n",
    "![](./trace_no_cdn/8.png)\n",
    "![](./trace_no_cdn/9.png)\n",
    "![](./trace_no_cdn/10.png)\n",
    "![](./trace_no_cdn/11.png)\n",
    "![](./trace_no_cdn/12.png)\n",
    "![](./trace_no_cdn/13.png)\n",
    "![](./trace_no_cdn/14.png)\n",
    "![](./trace_no_cdn/15.png)\n",
    "![](./trace_no_cdn/16.png)\n",
    "![](./trace_no_cdn/17.png)\n",
    "![](./trace_no_cdn/18.png)\n",
    "![](./trace_no_cdn/19.png)\n",
    "![](./trace_no_cdn/20.png)"
   ]
  },
  {
   "cell_type": "markdown",
   "metadata": {},
   "source": [
    "- Does the number of hops have an impact on the experience of the users?\n",
    "Teniendo en cuenta que cada hop o salto que realiza el paquete a través de los diferentes routers contempla un lapsos de procesamiento que terminan marginalmente adhiriendo tiempo de latencia para llegar al punto final. Es importante considerar que el performance de la aplicación web puede verse afectado por otros factores externos al traceroute (congestión en la red), sin embargo un mayor número de saltos generará una respuesta más tardía al usuario impactando la calidad de su experiencia. \n"
   ]
  },
  {
   "cell_type": "markdown",
   "metadata": {},
   "source": [
    "# Deploy your wep-page to the Azure CDN service (Azure Frontdoor).\n",
    "![](./4/azure.png)"
   ]
  },
  {
   "cell_type": "markdown",
   "metadata": {},
   "source": [
    "- What is a CDN?\n",
    "\n",
    "Una red de distribución de contenido (CDN) es un grupo de servidores repartidos en distintas zonas geográficas que aceleran la entrega del contenido web al acercarlo a los usuarios. Las CDN se basan en un proceso denominado \"almacenamiento en caché\" que almacena temporalmente copias de archivos en centros de datos de todo el mundo, lo que le permite acceder al contenido de Internet desde un servidor cercano. (Akamai, 2023)\n",
    "Una red de distribución de contenido consta de tres tipos de servidores:\n",
    "\n",
    "\n",
    "1. Servidores de Origen:\n",
    "   - Contienen las versiones originales del contenido.\n",
    "   - Funcionan como fuente principal y confiable de información.\n",
    "   - Se actualizan siempre que es necesario.\n",
    "   - Pueden ser propiedad de un proveedor de contenido o estar alojados en una infraestructura de nube externa, como AWS S3 o Google Cloud Storage.\n",
    "\n",
    "2. Servidores en el Edge:\n",
    "   - Ubicados en puntos de presencia (PoP) en diversas ubicaciones geográficas.\n",
    "   - Almacenan en caché copias del contenido desde los servidores de origen.\n",
    "   - Distribuyen el contenido a los usuarios cercanos, reduciendo la latencia.\n",
    "   - Propiedad del proveedor de alojamiento de la CDN o gestionados por este.\n",
    "   \n",
    "3. Servidores DNS:\n",
    "   - Forman parte del sistema de nombres de dominio (DNS).\n",
    "   - Realizan un seguimiento y proporcionan direcciones IP para los servidores de origen y en el Edge.\n",
    "   - Responden a las solicitudes de los clientes proporcionando el nombre de un servidor en el Edge emparejado para una transmisión más rápida del contenido.\n",
    "\n",
    "- What do you expect to be the impact of deploying your web-page to the CDN?\n",
    "\n",
    "Se espera que el impacto sea significativo, esto debido a que países lejanos a Estados Unidos como Rusia, Australia, países de oriente, Europa y Latam van a poder acceder a la web de manera más rápida, con latencias menores y van a tener un sentimiento de conectividad más instantánea. La CDN va a redirigir a estos usuarios a servidores que tienen el mismo contenido que en los Estados Unidos pero con la ventaja que el contenido será entregado de una manera más óptima con menos saltos por la red.\n",
    "\n",
    "- Run a ping from your personal computer to the web-page in the CDN. Determine the location of the server hosting your web-page.\n",
    "\n",
    "![](./4/ping.png)\n",
    "\n",
    "![](./4/iplocation.png)\n",
    "\n",
    "\n",
    "Como podemos ver el servidor ahora se encuentra en Bogotá,Colombia.\n"
   ]
  },
  {
   "cell_type": "markdown",
   "metadata": {},
   "source": [
    "- How does this location differ from the one obtained in (1).\n",
    "\n",
    "Es clara la diferencia pues ahora estando desde Quito,Ecuador podemos ver que se nos está redirigiendo a un servidor que se encuentra mucho más cercano a nosotros como sería en este caso Bogotá,Colombia. Esto hace que nuestra conexión tenga latencias más bajas pues ahora ya no tenemos que viajar hasta Virginia, Estados Unidos para obtener la página\n",
    "\n",
    "# Repeat (2) and (3) with the CDN url of your web-page\n",
    "- Make the same visualizations as the exercises above\n"
   ]
  },
  {
   "cell_type": "markdown",
   "metadata": {},
   "source": [
    "##### Ping with CDN"
   ]
  },
  {
   "cell_type": "markdown",
   "metadata": {},
   "source": [
    "![](./ping_cdn/1.png)\n",
    "![](./ping_cdn/2.png)\n",
    "![](./ping_cdn/3.png)\n",
    "![](./ping_cdn/4.png)\n",
    "![](./ping_cdn/5.png)\n",
    "![](./ping_cdn/6.png)\n",
    "![](./ping_cdn/7.png)\n",
    "![](./ping_cdn/8.png)\n",
    "![](./ping_cdn/9.png)\n",
    "![](./ping_cdn/10.png)\n",
    "![](./ping_cdn/11.png)\n",
    "![](./ping_cdn/12.png)\n",
    "![](./ping_cdn/13.png)\n",
    "![](./ping_cdn/14.png)\n",
    "![](./ping_cdn/15.png)\n",
    "![](./ping_cdn/16.png)\n",
    "![](./ping_cdn/17.png)\n",
    "![](./ping_cdn/18.png)\n",
    "![](./ping_cdn/19.png)\n",
    "![](./ping_cdn/20.png)"
   ]
  },
  {
   "cell_type": "markdown",
   "metadata": {},
   "source": [
    "En este caso hay datos que no tienen sentido debido a sus latencias negativas en ese caso no llegaron a conectarse con el servidor. Y tambien por la distancia que hay entre el servidor y el cliente.\n",
    "- Yogyakarta and Los Angeles (latency makes no sense)\n",
    "- Novosibirsk and Stockholm (latency -1)\n",
    "- Parkside and Sydney (latency makes no sense)"
   ]
  },
  {
   "cell_type": "markdown",
   "metadata": {},
   "source": [
    "#### Traceroute with CDN"
   ]
  },
  {
   "cell_type": "markdown",
   "metadata": {},
   "source": [
    "![](./trace_cdn/1.png)\n",
    "![](./trace_cdn/2.png)\n",
    "![](./trace_cdn/3.png)\n",
    "![](./trace_cdn/4.png)\n",
    "![](./trace_cdn/5.png)\n",
    "![](./trace_cdn/6.png)\n",
    "![](./trace_cdn/7.png)\n",
    "![](./trace_cdn/8.png)\n",
    "![](./trace_cdn/9.png)\n",
    "![](./trace_cdn/10.png)\n",
    "![](./trace_cdn/11.png)\n",
    "![](./trace_cdn/12.png)\n",
    "![](./trace_cdn/13.png)\n",
    "![](./trace_cdn/14.png)\n",
    "![](./trace_cdn/15.png)\n",
    "![](./trace_cdn/16.png)\n",
    "![](./trace_cdn/17.png)\n",
    "![](./trace_cdn/18.png)\n",
    "![](./trace_cdn/19.png)\n",
    "![](./trace_cdn/20.png)\n"
   ]
  },
  {
   "cell_type": "markdown",
   "metadata": {},
   "source": [
    "- What are the results of deploying your web-page to the CDN.\n",
    "\n",
    "Los resultados son notables, hemos visto por las gráficas claramente que las latencias son bajas, en la mayoría de casos vemos que el request no sale ni del país ni del continente y en casos específicos se queda dentro de la misma ciudad. Claramente la CDN es capaz de hacer un ruteo mucho más eficiente y de entregar la web en menor tiempo lo que al usuario se traslada como menor tiempo de espera al cargar la página y en sí una mejor experiencia, esto se puede ver en la imagen comparación de latencias.\n",
    "\n",
    "### Latencias con CDN vs sin CDN\n",
    "![](./5/latency.png)"
   ]
  },
  {
   "cell_type": "markdown",
   "metadata": {},
   "source": [
    "![](./5/latencycdn.png)"
   ]
  },
  {
   "cell_type": "markdown",
   "metadata": {},
   "source": [
    "# Link al canva"
   ]
  },
  {
   "cell_type": "markdown",
   "metadata": {},
   "source": [
    "https://www.canva.com/design/DAF2vc-6OZk/sp3EK2pKytIZY2EsD84ofg/edit"
   ]
  }
 ],
 "metadata": {
  "kernelspec": {
   "display_name": "tres9",
   "language": "python",
   "name": "python3"
  },
  "language_info": {
   "codemirror_mode": {
    "name": "ipython",
    "version": 3
   },
   "file_extension": ".py",
   "mimetype": "text/x-python",
   "name": "python",
   "nbconvert_exporter": "python",
   "pygments_lexer": "ipython3",
   "version": "3.11.4"
  }
 },
 "nbformat": 4,
 "nbformat_minor": 2
}
